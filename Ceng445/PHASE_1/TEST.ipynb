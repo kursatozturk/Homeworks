{
 "cells": [
  {
   "cell_type": "code",
   "execution_count": 1,
   "metadata": {},
   "outputs": [],
   "source": [
    "def construct_database(db_name):\n",
    "    conn = sqlite3.connect(db_name)\n",
    "    c = conn.cursor()\n",
    "\n",
    "    c.execute(\"\"\"CREATE TABLE Users(\n",
    "                uname char(20),\n",
    "                password char(20),\n",
    "                PRIMARY KEY (uname)\n",
    "                );\"\"\")\n",
    "\n",
    "    c.execute(\"\"\"CREATE TABLE Groups (\n",
    "                gname char(20),\n",
    "                PRIMARY KEY (gname)\n",
    "                );\"\"\")\n",
    "\n",
    "    c.execute(\"\"\"CREATE TABLE isMember (\n",
    "                uname char(20),\n",
    "                gname char(20),\n",
    "                PRIMARY KEY(uname, gname)\n",
    "                FOREIGN KEY(uname) REFERENCES users ON DELETE CASCADE,\n",
    "                FOREIGN KEY(gname) REFERENCES groups ON DELETE CASCADE\n",
    "                );\"\"\")\n",
    "\n",
    "    c.execute(\"\"\"CREATE TABLE LabeledImage(\n",
    "                 Image_id INT PRIMARY KEY,\n",
    "                 Object BLOB,\n",
    "                 name CHAR(50),\n",
    "                 owner CHAR(20),\n",
    "                 FOREIGN  KEY(owner) REFERENCES USERS(uname) ON DELETE CASCADE ON UPDATE CASCADE\n",
    "    );\"\"\")\n",
    "\n",
    "    conn.commit()\n",
    "    conn.execute('PRAGMA foreign_keys = ON')\n",
    "    return conn\n",
    "\n",
    "\n",
    "from numpy.random import choice\n",
    "from random import sample, random # get random group and user\n",
    "from glob import glob\n",
    "from user_group import *\n",
    "from labeledImage import *\n",
    "\n",
    "\n",
    "#Create some users\n",
    "def feed_users(usernames, groupnames):\n",
    "\n",
    "    group_c = len(groupnames)\n",
    "\n",
    "    for gn in groupnames:\n",
    "        usergr.addGroup(gn)\n",
    "\n",
    "    for un in usernames:\n",
    "        group_count = int(random() * (group_c)) # number of group that user belongs to\n",
    "        users_group_list = sample(groupnames, group_count)# initialize with groups\n",
    "        usergr.addUser(un, users_group_list, 'password123')\n",
    "\n",
    "\n",
    "def feed_rule(image_shape):\n",
    "    \"\"\"\n",
    "        # image_shape is needed to \n",
    "        # guarantee that randomly created shape did not cause any \n",
    "        # overflow \n",
    "    \"\"\"\n",
    "    global usernames\n",
    "    global groupnames\n",
    "    global regexps\n",
    "    matchexpr_type = choice([1, 2, 3],p = [0.4, 0.2, 0.4]) # 1 for USERNAME, 2 for REGEXP, 3 for  GROUPNAME\n",
    "    shape_type = choice([1, 2, 3], p = [0.3, 0.4, 0.3]) # 1 for RECTANGLE, 2 for POLYLINE, 3 for CIRCLE\n",
    "\n",
    "    width, height, _ = image_shape # channel is not needed\n",
    "\n",
    "    if matchexpr_type == 1:\n",
    "        rand_uname = choice(usernames)\n",
    "        matchexpr = MatchExpr(matchexpr_type,rand_uname)\n",
    "    elif matchexpr_type == 2:\n",
    "        rand_expr = choice(regexps)\n",
    "        matchexpr = MatchExpr(matchexpr_type, rand_expr)        \n",
    "    else:\n",
    "        rand_groupname = choice(groupnames)\n",
    "        matchexpr = MatchExpr(matchexpr_type, rand_groupname)\n",
    "\n",
    "\n",
    "    if shape_type == 1:\n",
    "        #create rectangle\n",
    "        x1 = int(random() * (width / 2))\n",
    "        x2 = int(random() * (width - x1)) + x1 # to guarantee x2 is above x1\n",
    "        y1 = int(random() * (height / 2))\n",
    "        y2 = int(random() * (height - y1)) + y1 # to guarantee y2 is above y1\n",
    "        shape = Shape(shape_type, (x1, y1), (x2, y2))\n",
    "\n",
    "    elif shape_type == 2:\n",
    "        #create polyline\n",
    "        #############################################################\n",
    "        # not sure if it can create a proper shaped polylines?? # not most successful one but worked out\n",
    "        line_number = int(random() * 50) + 3 # for simplicity\n",
    "        x_l = [int(random() * (width/(line_number - i))) for i in range(line_number)]\n",
    "        y_l = [int(random() * (height/(line_number - i))) for i in range(line_number)]\n",
    "        points = list()\n",
    "        for i in range(line_number):\n",
    "            points.append((x_l[i], y_l[i])) # polyline expects each argument is a tuple(x1, y1)\n",
    "        shape = Shape(shape_type, *points)\n",
    "\n",
    "    else:\n",
    "        #create circle\n",
    "        r = int(random() * (width/2)) + 1 # not to cause overflow over image\n",
    "        x1 = int(random() * width)\n",
    "        y1 = int(random() * height)\n",
    "        shape = Shape(shape_type, r, (x1, y1))\n",
    "    \n",
    "    return matchexpr, shape\n",
    "\n",
    "\n",
    "def feed_images(image_path_list):\n",
    "    # acts like randomly chosen user uploaded it and added rules\n",
    "    # assumed users and groups already created\n",
    "    im_name = 'image{}.jpg'\n",
    "    im_instances = []\n",
    "    global usernames\n",
    "    for idx, path in enumerate(image_path_list):\n",
    "        im_ins = LabeledImage() # empty constructors\n",
    "        im_instances.append(im_ins)\n",
    "        user = choice(usernames)\n",
    "        im_ins.loadImage(path, user) # read image for given path\n",
    "        rule_count = int(random() * 30) + 10 # at least 10 but not much than 30 for simplicity\n",
    "        for i in range(rule_count):\n",
    "            matchexpr, shape = feed_rule(im_ins.Image.shape)\n",
    "            action_class = choice([ALLOW, DENY], p=[0.1, 0.9]) # blur is not implemented\n",
    "            im_ins.addRule(matchexpr, shape, action_class)\n",
    "        im_ins.save(im_name.format(idx))  # save it to persistent memory\n",
    "    return im_instances\n",
    "\n",
    "def CreateUsersAndGroups(users, groups):\n",
    "        for group in groups:\n",
    "            usergr.addGroup(group)\n",
    "            \n",
    "        for user in users:\n",
    "            if 'boy' in user:\n",
    "                usergr.addUser(user, [\"above7\", \"men\"], \"changeme\")\n",
    "            elif 'girl' in user:\n",
    "                usergr.addUser(user, [\"above7\", \"women\"], \"changeme\")\n",
    "            elif 'teen' in user:\n",
    "                usergr.addUser(user, [\"above7\", \"above13\"], \"changeme\")\n",
    "            elif 'cia' in user:\n",
    "                usergr.addUser(user, [\"above7\", \"above13\", \"onlycia\", \"violence\",\"women\", \"men\"], \"changeme\")\n",
    "            elif 'fbi' in user:\n",
    "                usergr.addUser(user, [\"above7\", \"above13\", \"onlyfbi\", \"violence\",\"women\", \"men\"], \"changeme\")\n",
    "            elif '00' in user:\n",
    "                usergr.addUser(user, [\"violence\", \"onlycia\", \"onlyfbi\", \"topsecret\", \"above13\", \"women\", \"men\", \"above7\"], \"changeme\")\n",
    "            else:\n",
    "                usergr.addUser(user, [], \"changeme\")\n",
    "\n",
    "def gettingUsers(group):\n",
    "    print(usergr.getUsers(group))\n",
    "def gettingGroups(user):\n",
    "    print(usergr.getGroups(user))\n",
    "def membershipControl(user):\n",
    "    for group in groupnames:\n",
    "        if usergr.ismember(user, group):\n",
    "            print(\"User '{}' is a member of group '{}'\".format(user, group))\n",
    "        else:\n",
    "            print(\"User '{}' is NOT a member of group '{}'\".format(user, group))\n",
    "\n",
    "def testUserGroups():\n",
    "    print(\"###Creating users and Groups\")\n",
    "    CreateUsersAndGroups(usernames, groupnames)\n",
    "\n",
    "    print(\"##GETTING TOPSECRET USERS\")\n",
    "    gettingUsers(\"topsecret\")\n",
    "    print(\"##GETTING WRONG GROUP\")\n",
    "    gettingUsers(\"wronggroup\")\n",
    "    print(\"##GETTING CIA9900 GROUPS\")\n",
    "    gettingGroups(\"cia9900\")\n",
    "    print(\"##GETTING WRONG USER\")\n",
    "    gettingGroups(\"wrongusername\")\n",
    "\n",
    "    print(\"### MEMBERSHIP CONTROLS\")\n",
    "    membershipControl(\"cia9900\")\n",
    "    membershipControl(\"cia0000\") #wrongname\n",
    "    membershipControl(\"bossbaby01\") #this user is not in any group\n",
    "\n",
    "    print(\"## DELETED CIA9900\")\n",
    "    usergr.delUser(\"cia9900\")\n",
    "    print(\"##CIA9900'S GROUPS\")\n",
    "    gettingGroups(\"cia9900\") #this user is deleted\n",
    "    usergr.delGroup(\"topsecret\")\n",
    "    print(\"## TOPSECRET IS DELETED\")\n",
    "    gettingUsers(\"topsecret\") #this group is deleted\n",
    "\n",
    "    print(\"## JAMESBOND MEMBERHIPS\")\n",
    "    membershipControl(\"jamesbond007\") #topsecret is deleted so the user shouldn't be member of it\n"
   ]
  },
  {
   "cell_type": "markdown",
   "metadata": {},
   "source": [
    "# Initialization\n",
    "\n",
    "   Usernames, regexps and groupnames list will be used for simulation with randomly created rules and user-group relations.\n",
    "   \n",
    "   Database created, and classes connected to it."
   ]
  },
  {
   "cell_type": "code",
   "execution_count": 2,
   "metadata": {},
   "outputs": [],
   "source": [
    "usernames = ['Veli', 'Hasan', 'Yesevi', 'Micheal', 'Excalibur', \n",
    "            'Babayorgun', 'Lee', 'Nameless', 'Whoami',\n",
    "            'Hayır', 'Evet', 'Var', 'Yok', 'Rooney',\n",
    "            'Honey', 'Balım', 'Ayça26', 'Yoruk15', '15Baba15',\n",
    "             \"bossbaby01\", \"youtuberboy\", \"makeupgirlx\", \"deathmetalteen\", \"nerdyteen\",\n",
    "           \"populargirl007\", \"desperatehousewife72\", \"president001\", \"jamesbond007\", \n",
    "           \"genera004\", \"fbi1385\", \"fbi9843\", \"fbi4354\", \"cia9900\", \"cia1112\", \"cia4656\",\n",
    "            ]\n",
    "regexps = [\n",
    "            r'^[A-Z]+$',\n",
    "            r'^[A-Z]+[a-z0-9]*$',\n",
    "            r'^an[1-9]+$',\n",
    "            r'^[A-Za-z]+le+[A-Za-z]*$',\n",
    "          ]\n",
    "\n",
    "groupnames = ['Aslanlar', 'Kaplanlar', 'Askerler',\n",
    "            'Asker kaçakları', 'Ultras',\n",
    "            'Veliler', 'Students',\n",
    "            'Qi', 'Bankers', 'Tankers',\n",
    "            \"violence\", \"onlycia\", \"onlyfbi\", \n",
    "            \"topsecret\", \"above13\", \"women\", \"men\", \"above7\",\n",
    "            ]\n",
    "\n",
    "import subprocess\n",
    "subprocess.call(['rm','-rf', 'labeled_image.db'])\n",
    "db_name = 'labeled_image.db'\n",
    "conn = construct_database(db_name)\n",
    "\n",
    "usergr = UserGroup(conn)\n",
    "LabeledImage.db_cursor = conn.cursor()\n",
    "MatchExpr.USERGROUPREFERENCE = usergr"
   ]
  },
  {
   "cell_type": "markdown",
   "metadata": {},
   "source": [
    "# Simulation\n",
    "\n",
    "feed_users will create random user-group relations.\n",
    "\n",
    "feed_images will create random rules for each user, group or regexps."
   ]
  },
  {
   "cell_type": "code",
   "execution_count": 3,
   "metadata": {},
   "outputs": [],
   "source": [
    "feed_users(usernames, groupnames)\n",
    "\n",
    "image_path = 'images/'\n",
    "image_path_list = glob(image_path + '*.jpg')\n",
    "im_instances = feed_images(image_path_list)"
   ]
  },
  {
   "cell_type": "markdown",
   "metadata": {},
   "source": [
    "# Check Result\n",
    "\n",
    "This cell looks whether rules applied or not."
   ]
  },
  {
   "cell_type": "code",
   "execution_count": 4,
   "metadata": {},
   "outputs": [],
   "source": [
    "for im in im_instances:\n",
    "    for username in usernames:\n",
    "        image = im.getImage(username)\n",
    "        cv2.imwrite('image/{}_[{}].jpg'.format(im.name[:-4], username), image)"
   ]
  },
  {
   "cell_type": "markdown",
   "metadata": {},
   "source": [
    "# Database Connection\n",
    "\n",
    "This cell, loads data from database and check if any relation/rule is corrupted."
   ]
  },
  {
   "cell_type": "code",
   "execution_count": 5,
   "metadata": {
    "scrolled": true
   },
   "outputs": [],
   "source": [
    "from_database_labeledImages = []\n",
    "\n",
    "ims_in_db = conn.execute('select name from LabeledImage').fetchall()\n",
    "\n",
    "for i in ims_in_db:\n",
    "    ll = LabeledImage()\n",
    "    ll.load(i[0])\n",
    "    from_database_labeledImages.append(ll)\n",
    "# save it to local(since cv2.imshow does not work in package fetched via pip)\n",
    "for im in from_database_labeledImages:\n",
    "    for user in usernames:\n",
    "        image = im.getImage(user)\n",
    "        cv2.imwrite('image/{}_[{}]_compare.jpg'.format(im.name[:-4], user), image)"
   ]
  },
  {
   "cell_type": "markdown",
   "metadata": {},
   "source": [
    "# Manule Testing for UserGroup"
   ]
  },
  {
   "cell_type": "code",
   "execution_count": 6,
   "metadata": {},
   "outputs": [
    {
     "name": "stdout",
     "output_type": "stream",
     "text": [
      "###Creating users and Groups\n",
      "There is a group called 'Aslanlar' already!\n",
      "There is a group called 'Kaplanlar' already!\n",
      "There is a group called 'Askerler' already!\n",
      "There is a group called 'Asker kaçakları' already!\n",
      "There is a group called 'Ultras' already!\n",
      "There is a group called 'Veliler' already!\n",
      "There is a group called 'Students' already!\n",
      "There is a group called 'Qi' already!\n",
      "There is a group called 'Bankers' already!\n",
      "There is a group called 'Tankers' already!\n",
      "There is a group called 'violence' already!\n",
      "There is a group called 'onlycia' already!\n",
      "There is a group called 'onlyfbi' already!\n",
      "There is a group called 'topsecret' already!\n",
      "There is a group called 'above13' already!\n",
      "There is a group called 'women' already!\n",
      "There is a group called 'men' already!\n",
      "There is a group called 'above7' already!\n",
      "There is a user called 'Veli' already!\n",
      "There is a user called 'Hasan' already!\n",
      "There is a user called 'Yesevi' already!\n",
      "There is a user called 'Micheal' already!\n",
      "There is a user called 'Excalibur' already!\n",
      "There is a user called 'Babayorgun' already!\n",
      "There is a user called 'Lee' already!\n",
      "There is a user called 'Nameless' already!\n",
      "There is a user called 'Whoami' already!\n",
      "There is a user called 'Hayır' already!\n",
      "There is a user called 'Evet' already!\n",
      "There is a user called 'Var' already!\n",
      "There is a user called 'Yok' already!\n",
      "There is a user called 'Rooney' already!\n",
      "There is a user called 'Honey' already!\n",
      "There is a user called 'Balım' already!\n",
      "There is a user called 'Ayça26' already!\n",
      "There is a user called 'Yoruk15' already!\n",
      "There is a user called '15Baba15' already!\n",
      "There is a user called 'bossbaby01' already!\n",
      "There is a user called 'youtuberboy' already!\n",
      "There is a user called 'makeupgirlx' already!\n",
      "There is a user called 'deathmetalteen' already!\n",
      "There is a user called 'nerdyteen' already!\n",
      "There is a user called 'populargirl007' already!\n",
      "There is a user called 'desperatehousewife72' already!\n",
      "There is a user called 'president001' already!\n",
      "There is a user called 'jamesbond007' already!\n",
      "There is a user called 'genera004' already!\n",
      "There is a user called 'fbi1385' already!\n",
      "There is a user called 'fbi9843' already!\n",
      "There is a user called 'fbi4354' already!\n",
      "There is a user called 'cia9900' already!\n",
      "There is a user called 'cia1112' already!\n",
      "There is a user called 'cia4656' already!\n",
      "##GETTING TOPSECRET USERS\n",
      "['Veli', 'Micheal', 'Lee', 'Nameless', 'Var', 'Rooney', 'Ayça26', '15Baba15', 'bossbaby01', 'youtuberboy', 'makeupgirlx', 'deathmetalteen', 'desperatehousewife72', 'president001', 'jamesbond007', 'fbi1385', 'cia9900']\n",
      "##GETTING WRONG GROUP\n",
      "There is no group called 'wronggroup'\n",
      "[]\n",
      "##GETTING CIA9900 GROUPS\n",
      "['Aslanlar', 'Kaplanlar', 'Students', 'onlycia', 'topsecret', 'women']\n",
      "##GETTING WRONG USER\n",
      "There is no user called 'wrongusername'\n",
      "### MEMBERSHIP CONTROLS\n",
      "User 'cia9900' is a member of group 'Aslanlar'\n",
      "User 'cia9900' is a member of group 'Kaplanlar'\n",
      "User 'cia9900' is NOT a member of group 'Askerler'\n",
      "User 'cia9900' is NOT a member of group 'Asker kaçakları'\n",
      "User 'cia9900' is NOT a member of group 'Ultras'\n",
      "User 'cia9900' is NOT a member of group 'Veliler'\n",
      "User 'cia9900' is a member of group 'Students'\n",
      "User 'cia9900' is NOT a member of group 'Qi'\n",
      "User 'cia9900' is NOT a member of group 'Bankers'\n",
      "User 'cia9900' is NOT a member of group 'Tankers'\n",
      "User 'cia9900' is NOT a member of group 'violence'\n",
      "User 'cia9900' is a member of group 'onlycia'\n",
      "User 'cia9900' is NOT a member of group 'onlyfbi'\n",
      "User 'cia9900' is a member of group 'topsecret'\n",
      "User 'cia9900' is NOT a member of group 'above13'\n",
      "User 'cia9900' is a member of group 'women'\n",
      "User 'cia9900' is NOT a member of group 'men'\n",
      "User 'cia9900' is NOT a member of group 'above7'\n",
      "There is no user called 'cia0000'\n",
      "User 'cia0000' is NOT a member of group 'Aslanlar'\n",
      "There is no user called 'cia0000'\n",
      "User 'cia0000' is NOT a member of group 'Kaplanlar'\n",
      "There is no user called 'cia0000'\n",
      "User 'cia0000' is NOT a member of group 'Askerler'\n",
      "There is no user called 'cia0000'\n",
      "User 'cia0000' is NOT a member of group 'Asker kaçakları'\n",
      "There is no user called 'cia0000'\n",
      "User 'cia0000' is NOT a member of group 'Ultras'\n",
      "There is no user called 'cia0000'\n",
      "User 'cia0000' is NOT a member of group 'Veliler'\n",
      "There is no user called 'cia0000'\n",
      "User 'cia0000' is NOT a member of group 'Students'\n",
      "There is no user called 'cia0000'\n",
      "User 'cia0000' is NOT a member of group 'Qi'\n",
      "There is no user called 'cia0000'\n",
      "User 'cia0000' is NOT a member of group 'Bankers'\n",
      "There is no user called 'cia0000'\n",
      "User 'cia0000' is NOT a member of group 'Tankers'\n",
      "There is no user called 'cia0000'\n",
      "User 'cia0000' is NOT a member of group 'violence'\n",
      "There is no user called 'cia0000'\n",
      "User 'cia0000' is NOT a member of group 'onlycia'\n",
      "There is no user called 'cia0000'\n",
      "User 'cia0000' is NOT a member of group 'onlyfbi'\n",
      "There is no user called 'cia0000'\n",
      "User 'cia0000' is NOT a member of group 'topsecret'\n",
      "There is no user called 'cia0000'\n",
      "User 'cia0000' is NOT a member of group 'above13'\n",
      "There is no user called 'cia0000'\n",
      "User 'cia0000' is NOT a member of group 'women'\n",
      "There is no user called 'cia0000'\n",
      "User 'cia0000' is NOT a member of group 'men'\n",
      "There is no user called 'cia0000'\n",
      "User 'cia0000' is NOT a member of group 'above7'\n",
      "User 'bossbaby01' is a member of group 'Aslanlar'\n",
      "User 'bossbaby01' is a member of group 'Kaplanlar'\n",
      "User 'bossbaby01' is NOT a member of group 'Askerler'\n",
      "User 'bossbaby01' is NOT a member of group 'Asker kaçakları'\n",
      "User 'bossbaby01' is NOT a member of group 'Ultras'\n",
      "User 'bossbaby01' is a member of group 'Veliler'\n",
      "User 'bossbaby01' is NOT a member of group 'Students'\n",
      "User 'bossbaby01' is NOT a member of group 'Qi'\n",
      "User 'bossbaby01' is NOT a member of group 'Bankers'\n",
      "User 'bossbaby01' is a member of group 'Tankers'\n",
      "User 'bossbaby01' is NOT a member of group 'violence'\n",
      "User 'bossbaby01' is NOT a member of group 'onlycia'\n",
      "User 'bossbaby01' is NOT a member of group 'onlyfbi'\n",
      "User 'bossbaby01' is a member of group 'topsecret'\n",
      "User 'bossbaby01' is a member of group 'above13'\n",
      "User 'bossbaby01' is a member of group 'women'\n",
      "User 'bossbaby01' is a member of group 'men'\n",
      "User 'bossbaby01' is a member of group 'above7'\n",
      "## DELETED CIA9900\n",
      "##CIA9900'S GROUPS\n",
      "There is no user called 'cia9900'\n",
      "## TOPSECRET IS DELETED\n",
      "There is no group called 'topsecret'\n",
      "[]\n",
      "## JAMESBOND MEMBERHIPS\n",
      "User 'jamesbond007' is a member of group 'Aslanlar'\n",
      "User 'jamesbond007' is NOT a member of group 'Kaplanlar'\n",
      "User 'jamesbond007' is NOT a member of group 'Askerler'\n",
      "User 'jamesbond007' is NOT a member of group 'Asker kaçakları'\n",
      "User 'jamesbond007' is a member of group 'Ultras'\n",
      "User 'jamesbond007' is a member of group 'Veliler'\n",
      "User 'jamesbond007' is a member of group 'Students'\n",
      "User 'jamesbond007' is a member of group 'Qi'\n",
      "User 'jamesbond007' is a member of group 'Bankers'\n",
      "User 'jamesbond007' is a member of group 'Tankers'\n",
      "User 'jamesbond007' is a member of group 'violence'\n",
      "User 'jamesbond007' is NOT a member of group 'onlycia'\n",
      "User 'jamesbond007' is NOT a member of group 'onlyfbi'\n",
      "There is no group called 'topsecret'\n",
      "User 'jamesbond007' is NOT a member of group 'topsecret'\n",
      "User 'jamesbond007' is NOT a member of group 'above13'\n",
      "User 'jamesbond007' is a member of group 'women'\n",
      "User 'jamesbond007' is NOT a member of group 'men'\n",
      "User 'jamesbond007' is NOT a member of group 'above7'\n"
     ]
    }
   ],
   "source": [
    "testUserGroups()"
   ]
  },
  {
   "cell_type": "markdown",
   "metadata": {},
   "source": [
    "# Manual Testing for LabeledImage\n",
    "Here, we will play a scenario with Jessica.\n"
   ]
  },
  {
   "cell_type": "code",
   "execution_count": 7,
   "metadata": {},
   "outputs": [],
   "source": [
    "usergr.addUser('Jessica', [], 'highsecuritypassword')"
   ]
  },
  {
   "cell_type": "markdown",
   "metadata": {},
   "source": [
    "### Jessica Sevenler Derneği"
   ]
  },
  {
   "cell_type": "code",
   "execution_count": 8,
   "metadata": {},
   "outputs": [],
   "source": [
    "usergr.addGroup('JessicaSevenlerDerneği')\n",
    "usergr.addUser('Justin', ['JessicaSevenlerDerneği',],'jessica')\n",
    "usergr.addUser('Helena', ['JessicaSevenlerDerneği',], 'nocomment')\n",
    "usergr.addUser('Belk00', ['JessicaSevenlerDerneği'], 'IloveNumbers')"
   ]
  },
  {
   "cell_type": "markdown",
   "metadata": {},
   "source": [
    "Like any other famous people, She has haters as much as her lovers\n",
    "\n",
    "### JessicaHaters"
   ]
  },
  {
   "cell_type": "code",
   "execution_count": 9,
   "metadata": {},
   "outputs": [],
   "source": [
    "usergr.addGroup('JessicaHaters')\n",
    "usergr.addUser('DrVenom', ['JessicaHaters',], 'IhateJessica')\n",
    "usergr.addUser('Selena', ['JessicaHaters',], 'IdontloveJessica')\n",
    "usergr.addUser('TeenAgeGirl', ['JessicaHaters',], 'nocomment')\n",
    "usergr.addUser('UnderAgeBoy', ['JessicaHaters',], 'password')"
   ]
  },
  {
   "cell_type": "markdown",
   "metadata": {},
   "source": [
    "#### Jessica wants to upload a photo, but she does not want to everyone see whole image"
   ]
  },
  {
   "cell_type": "code",
   "execution_count": 10,
   "metadata": {},
   "outputs": [],
   "source": [
    "jbL = LabeledImage()\n",
    "jbL.loadImage('images/jb.jpg', 'Jessica')"
   ]
  },
  {
   "cell_type": "markdown",
   "metadata": {},
   "source": [
    "#### She wants her fans to see her"
   ]
  },
  {
   "cell_type": "code",
   "execution_count": 11,
   "metadata": {},
   "outputs": [],
   "source": [
    "jbL.addRule(MatchExpr(MatchExpr.GROUPNAME, 'JessicaSevenlerDerneği'), Shape( Shape.RECTANGLE, (200, 200), (750, 750)), ALLOW)"
   ]
  },
  {
   "cell_type": "markdown",
   "metadata": {},
   "source": [
    "#### Now time she to arrange permissions"
   ]
  },
  {
   "cell_type": "code",
   "execution_count": 12,
   "metadata": {},
   "outputs": [],
   "source": [
    "jbL.addRule(MatchExpr(MatchExpr.GROUPNAME, 'JessicaHaters'), Shape(Shape.CIRCLE, 50, (50, 100)), DENY)"
   ]
  },
  {
   "cell_type": "markdown",
   "metadata": {},
   "source": [
    "#### She hates DrVenom, as well as he did to her"
   ]
  },
  {
   "cell_type": "code",
   "execution_count": 13,
   "metadata": {},
   "outputs": [],
   "source": [
    "jbL.addRule(MatchExpr(MatchExpr.USERNAME, 'DrVenom'), Shape(Shape.POLYLINE, (50,50), (50, 75), (80, 100), (150, 160), (250, 400), (600, 650)), DENY)"
   ]
  },
  {
   "cell_type": "markdown",
   "metadata": {},
   "source": [
    "#### She tries something"
   ]
  },
  {
   "cell_type": "code",
   "execution_count": 14,
   "metadata": {},
   "outputs": [],
   "source": [
    "jbL.addRule(MatchExpr(MatchExpr.REGEXP, r'[A-Z][a-z]+[0-9]*'), Shape(Shape.CIRCLE, 400, (430, 430)), DENY)"
   ]
  },
  {
   "cell_type": "markdown",
   "metadata": {},
   "source": [
    "#### She wants to see how it works"
   ]
  },
  {
   "cell_type": "code",
   "execution_count": 15,
   "metadata": {},
   "outputs": [],
   "source": [
    "WHOLE_TEAM = ['Justin', 'Helena', 'Belk00', 'DrVenom', 'Selena', 'TeenAgeGirl', 'UnderAgeBoy']\n",
    "\n",
    "for user in WHOLE_TEAM:\n",
    "    image = jbL.getImage(user)\n",
    "    cv2.imwrite('Jessica/{}_1.jpg'.format(user), image)"
   ]
  },
  {
   "cell_type": "markdown",
   "metadata": {},
   "source": [
    "#### She  understood that she made a mistake in the rule order, so she adds rule again to the end"
   ]
  },
  {
   "cell_type": "code",
   "execution_count": 16,
   "metadata": {},
   "outputs": [],
   "source": [
    "jbL.addRule(MatchExpr(MatchExpr.GROUPNAME, 'JessicaSevenlerDerneği'), Shape( Shape.RECTANGLE, (200, 200), (750, 750)), ALLOW)"
   ]
  },
  {
   "cell_type": "markdown",
   "metadata": {},
   "source": [
    "#### Of course, she wants her lover, Justin, to see whole image without any censor"
   ]
  },
  {
   "cell_type": "code",
   "execution_count": 17,
   "metadata": {},
   "outputs": [],
   "source": [
    "jbL.addRule(MatchExpr(MatchExpr.USERNAME, 'Justin'), Shape(Shape.RECTANGLE, (0,0), (870,870)), ALLOW)"
   ]
  },
  {
   "cell_type": "markdown",
   "metadata": {},
   "source": [
    "### Now, let's see if Jessica achieves her intentions\n",
    "\n",
    "People lined up, just to see her image, in time she upload it."
   ]
  },
  {
   "cell_type": "code",
   "execution_count": 18,
   "metadata": {},
   "outputs": [],
   "source": [
    "WHOLE_TEAM = ['Justin', 'Helena', 'Belk00', 'DrVenom', 'Selena', 'TeenAgeGirl', 'UnderAgeBoy']\n",
    "\n",
    "for user in WHOLE_TEAM:\n",
    "    image = jbL.getImage(user)\n",
    "    cv2.imwrite('Jessica/{}_2.jpg'.format(user), image)"
   ]
  }
 ],
 "metadata": {
  "kernelspec": {
   "display_name": "Python (ceng445)",
   "language": "python",
   "name": "ceng445"
  },
  "language_info": {
   "codemirror_mode": {
    "name": "ipython",
    "version": 3
   },
   "file_extension": ".py",
   "mimetype": "text/x-python",
   "name": "python",
   "nbconvert_exporter": "python",
   "pygments_lexer": "ipython3",
   "version": "3.7.1"
  }
 },
 "nbformat": 4,
 "nbformat_minor": 2
}
