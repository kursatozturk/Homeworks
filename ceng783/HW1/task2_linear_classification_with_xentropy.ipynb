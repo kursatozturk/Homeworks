{
 "cells": [
  {
   "cell_type": "markdown",
   "metadata": {},
   "source": [
    "# Linear Classification with Cross Entropy Loss\n",
    "\n",
    "In this exercise, you will implement and train a linear classifier using cross entropy loss. We will reuse most of the code (and the cells) that we developed in Task 1.\n",
    "\n",
    "Please complete all cells and answer questions asked in the cells if you want to get a full grade.\n"
   ]
  },
  {
   "cell_type": "code",
   "execution_count": 1,
   "metadata": {},
   "outputs": [],
   "source": [
    "# Run some setup code for this notebook.\n",
    "\n",
    "import random\n",
    "import numpy as np\n",
    "import matplotlib.pyplot as plt\n",
    "\n",
    "# This is a bit of magic to make matplotlib figures appear inline in the\n",
    "# notebook rather than in a new window.\n",
    "%matplotlib inline\n",
    "plt.rcParams['figure.figsize'] = (10.0, 8.0) # set default size of plots\n",
    "plt.rcParams['image.interpolation'] = 'nearest'\n",
    "plt.rcParams['image.cmap'] = 'gray'\n",
    "\n",
    "# Some more magic so that the notebook will reload external python modules;\n",
    "# see http://stackoverflow.com/questions/1907993/autoreload-of-modules-in-ipython\n",
    "%load_ext autoreload\n",
    "%autoreload 2"
   ]
  },
  {
   "cell_type": "markdown",
   "metadata": {},
   "source": [
    "## Loading the MNIST Dataset\n",
    "\n",
    "MNIST (http://yann.lecun.com/exdb/mnist/) is one of the popular datasets used for testing machine learning models. It contains hand-written digits as grayscale images with 28x28 resolution. There are 60,000 samples for training (10,000 of which is usually used for validation), and 10,000 for testing. Although there are more challenging datasets available, MNIST is a good starting point for testing early versions of the models and as a sanity check.\n",
    "\n",
    "Since more challenging datasets require more memory and lead to bigger models that require more computational power, we will stick with the MNIST dataset for the first HW."
   ]
  },
  {
   "cell_type": "code",
   "execution_count": 2,
   "metadata": {},
   "outputs": [
    {
     "name": "stdout",
     "output_type": "stream",
     "text": [
      "Training data shape:  (50000, 784)\n",
      "Training labels shape:  (50000,)\n",
      "Validation data shape:  (10000, 784)\n",
      "Validation labels shape:  (10000,)\n",
      "Test data shape:  (10000, 784)\n",
      "Test labels shape:  (10000,)\n"
     ]
    }
   ],
   "source": [
    "# First run the \"get_data.sh\" under metu/data/ in your terminal.\n",
    "# Then this cell will load the raw MNIST data.\n",
    "#\n",
    "#\n",
    "from ceng783.utils import load_mnist\n",
    "mnist_file = 'ceng783/data/mnist.pkl.gz'\n",
    "X_train, y_train, X_val, y_val, X_test, y_test = load_mnist(mnist_file)\n",
    "\n",
    "# As a sanity check, we print out the size of the training and test data.\n",
    "print 'Training data shape: ', X_train.shape\n",
    "print 'Training labels shape: ', y_train.shape\n",
    "print 'Validation data shape: ', X_val.shape\n",
    "print 'Validation labels shape: ', y_val.shape\n",
    "print 'Test data shape: ', X_test.shape\n",
    "print 'Test labels shape: ', y_test.shape"
   ]
  },
  {
   "cell_type": "code",
   "execution_count": 3,
   "metadata": {},
   "outputs": [
    {
     "name": "stdout",
     "output_type": "stream",
     "text": [
      "Train data shape:  (9999, 784)\n",
      "Train labels shape:  (9999,)\n",
      "Validation data shape:  (999, 784)\n",
      "Validation labels shape:  (999,)\n",
      "Test data shape:  (999, 784)\n",
      "Test labels shape:  (999,)\n"
     ]
    }
   ],
   "source": [
    "# Subsample the data for faster experiments in this exercise.\n",
    "num_training = 10000\n",
    "num_validation = 1000\n",
    "num_test = 1000\n",
    "\n",
    "X_train = X_train[1:num_training]\n",
    "y_train = y_train[1:num_training]\n",
    "\n",
    "X_val = X_val[1:num_validation]\n",
    "y_val = y_val[1:num_validation]\n",
    "\n",
    "X_test = X_test[1:num_test]\n",
    "y_test = y_test[1:num_test]\n",
    "\n",
    "print 'Train data shape: ', X_train.shape\n",
    "print 'Train labels shape: ', y_train.shape\n",
    "print 'Validation data shape: ', X_val.shape\n",
    "print 'Validation labels shape: ', y_val.shape\n",
    "print 'Test data shape: ', X_test.shape\n",
    "print 'Test labels shape: ', y_test.shape"
   ]
  },
  {
   "cell_type": "code",
   "execution_count": 4,
   "metadata": {},
   "outputs": [
    {
     "name": "stdout",
     "output_type": "stream",
     "text": [
      "[0. 0. 0. 0. 0. 0. 0. 0. 0. 0.]\n"
     ]
    },
    {
     "data": {
      "text/plain": [
       "<matplotlib.image.AxesImage at 0x7fb3fc258a10>"
      ]
     },
     "execution_count": 4,
     "metadata": {},
     "output_type": "execute_result"
    },
    {
     "data": {
      "image/png": "[encoded data removed]",
      "text/plain": [
       "<Figure size 288x288 with 1 Axes>"
      ]
     },
     "metadata": {
      "needs_background": "light"
     },
     "output_type": "display_data"
    }
   ],
   "source": [
    "# Preprocessing: subtract the mean image\n",
    "# first: compute the image mean based on the training data\n",
    "mean_image = np.mean(X_train, axis=0)\n",
    "\n",
    "# second: subtract the mean image from train and test data\n",
    "X_train -= mean_image\n",
    "X_val -= mean_image\n",
    "X_test -= mean_image\n",
    "\n",
    "print mean_image[:10] # print a few of the elements\n",
    "plt.figure(figsize=(4,4))\n",
    "plt.imshow(mean_image.reshape((28,28))) # visualize the mean image"
   ]
  },
  {
   "cell_type": "code",
   "execution_count": 5,
   "metadata": {},
   "outputs": [
    {
     "name": "stdout",
     "output_type": "stream",
     "text": [
      "(9999, 785) (999, 785) (999, 785)\n"
     ]
    }
   ],
   "source": [
    "# third: append the bias dimension of ones (i.e. bias trick) so that our SVM\n",
    "# only has to worry about optimizing a single weight matrix W.\n",
    "# Also, lets transform both data matrices so that each image is a column.\n",
    "X_train = np.hstack([X_train, np.ones((X_train.shape[0], 1))])\n",
    "X_val = np.hstack([X_val, np.ones((X_val.shape[0], 1))])\n",
    "X_test = np.hstack([X_test, np.ones((X_test.shape[0], 1))])\n",
    "\n",
    "print X_train.shape, X_val.shape, X_test.shape"
   ]
  },
  {
   "cell_type": "markdown",
   "metadata": {},
   "source": [
    "## Linear Classifier with Cross-entropy Loss\n",
    "\n",
    "Your code for this section will all be written inside **ceng783/linear_classification.py**. \n",
    "\n",
    "Fill in the loss calculation in the `vectorized_xentropy_loss' function."
   ]
  },
  {
   "cell_type": "code",
   "execution_count": 6,
   "metadata": {},
   "outputs": [
    {
     "name": "stdout",
     "output_type": "stream",
     "text": [
      "loss: 2.302449\n",
      "sanity check: 2.302585\n"
     ]
    }
   ],
   "source": [
    "# Evaluate the naive implementation of the loss we provided for you:\n",
    "from ceng783.linear_classification import *\n",
    "\n",
    "input_size = X_train[0].shape[0]\n",
    "output_size = 10\n",
    "\n",
    "LC = LinearClassifier(input_size, output_size) # initializes the weights to random small numbers\n",
    "\n",
    "loss, _ = LC.vectorized_xentropy_loss(X_train, y_train)\n",
    "\n",
    "# As a rough sanity check, our loss should be something close to -log(0.1).\n",
    "print 'loss: %f' % loss\n",
    "print 'sanity check: %f' % (-np.log(0.1))"
   ]
  },
  {
   "cell_type": "markdown",
   "metadata": {},
   "source": [
    "## Inline Question 1:\n",
    "Why do we expect our loss to be close to -log(0.1)? Explain briefly.**\n",
    "\n",
    "**Your answer:** *Fill this in*\n",
    "\n",
    "Softmax classifier of cross-entropy function is -log(e^Syi/∑e^Sj). Which means that it computes minus logarithm of correct class' probability. Since initially weights are random distribution, probabilities are same for all class. In this case, we have 10 class, so it computes one of 10 classes probability, which takes us to the ratio \n",
    "Py/Pall == 1/10. As a result it must be -log(1/10).    "
   ]
  },
  {
   "cell_type": "markdown",
   "metadata": {},
   "source": [
    "## Calculate the Gradient\n",
    "\n",
    "The `grad` returned from the function above is right now all zero. Derive and implement the gradient for the cross entropy loss function and implement it inline inside the function `vectorized_xentropy_loss`. You will find it helpful to interleave your new code inside the existing function.\n",
    "\n",
    "To check that you have correctly implemented the gradient correctly, you can numerically estimate the gradient of the loss function and compare the numeric estimate to the gradient that you computed. We have provided code that does this for you:"
   ]
  },
  {
   "cell_type": "code",
   "execution_count": 7,
   "metadata": {},
   "outputs": [
    {
     "name": "stderr",
     "output_type": "stream",
     "text": [
      "ceng783/utils.py:68: RuntimeWarning: invalid value encountered in double_scalars\n",
      "  rel_error = abs(grad_numerical - grad_analytic) / (abs(grad_numerical) + abs(grad_analytic))\n"
     ]
    },
    {
     "name": "stdout",
     "output_type": "stream",
     "text": [
      "numerical: 0.000000 analytic: 0.000000, relative error: nan\n",
      "numerical: 0.000298 analytic: 0.000298, relative error: 4.575057e-09\n",
      "numerical: -0.013138 analytic: -0.013138, relative error: 1.072990e-09\n",
      "numerical: 0.000116 analytic: 0.000116, relative error: 4.870440e-08\n",
      "numerical: 0.000057 analytic: 0.000057, relative error: 1.053984e-07\n",
      "numerical: 0.000000 analytic: 0.000000, relative error: nan\n",
      "numerical: 0.009603 analytic: 0.009603, relative error: 8.444169e-10\n",
      "numerical: 0.001153 analytic: 0.001153, relative error: 2.358579e-09\n",
      "numerical: 0.000008 analytic: 0.000008, relative error: 1.302177e-06\n",
      "numerical: 0.008469 analytic: 0.008469, relative error: 1.031397e-09\n"
     ]
    }
   ],
   "source": [
    "# Once you've implemented the gradient, recompute it with the code below\n",
    "# and gradient check it with the function we provided for you\n",
    "\n",
    "W = 1e-4 * np.random.randn(output_size, input_size)\n",
    "\n",
    "# Compute the loss and its gradient at W.\n",
    "loss, grad = LC.vectorized_xentropy_loss(X_train, y_train, W=W, reg=0.0)\n",
    "\n",
    "# Numerically compute the gradient along several randomly chosen dimensions, and\n",
    "# compare them with your analytically computed gradient. The numbers should match\n",
    "# almost exactly along all dimensions.\n",
    "from ceng783.utils import grad_check_sparse\n",
    "f = lambda w: LC.vectorized_xentropy_loss(X_train, y_train, W=w, reg=0.0)[0]\n",
    "grad_numerical = grad_check_sparse(f, W, grad, 10)\n",
    "\n",
    "# You should see differences on the order of 10^-5"
   ]
  },
  {
   "cell_type": "markdown",
   "metadata": {},
   "source": [
    "### Train the Linear Classifier with Cross Entropy\n",
    "\n",
    "We now have vectorized and efficient expressions for the loss, the gradient and our gradient matches the numerical gradient. We are therefore ready to do SGD to minimize the loss."
   ]
  },
  {
   "cell_type": "code",
   "execution_count": 8,
   "metadata": {},
   "outputs": [
    {
     "name": "stdout",
     "output_type": "stream",
     "text": [
      "iteration 0 / 3000: loss 2.302866\n",
      "iteration 100 / 3000: loss 2.200200\n",
      "iteration 200 / 3000: loss 2.097976\n",
      "iteration 300 / 3000: loss 2.075684\n",
      "iteration 400 / 3000: loss 1.972106\n",
      "iteration 500 / 3000: loss 1.888551\n",
      "iteration 600 / 3000: loss 1.872691\n",
      "iteration 700 / 3000: loss 1.822400\n",
      "iteration 800 / 3000: loss 1.875495\n",
      "iteration 900 / 3000: loss 1.859815\n",
      "iteration 1000 / 3000: loss 1.804199\n",
      "iteration 1100 / 3000: loss 1.851319\n",
      "iteration 1200 / 3000: loss 1.731136\n",
      "iteration 1300 / 3000: loss 1.798600\n",
      "iteration 1400 / 3000: loss 1.757483\n",
      "iteration 1500 / 3000: loss 1.706956\n",
      "iteration 1600 / 3000: loss 1.647159\n",
      "iteration 1700 / 3000: loss 1.608088\n",
      "iteration 1800 / 3000: loss 1.711665\n",
      "iteration 1900 / 3000: loss 1.703496\n",
      "iteration 2000 / 3000: loss 1.846142\n",
      "iteration 2100 / 3000: loss 1.700186\n",
      "iteration 2200 / 3000: loss 1.832725\n",
      "iteration 2300 / 3000: loss 1.832932\n",
      "iteration 2400 / 3000: loss 1.647707\n",
      "iteration 2500 / 3000: loss 1.624320\n",
      "iteration 2600 / 3000: loss 1.708573\n",
      "iteration 2700 / 3000: loss 1.729244\n",
      "iteration 2800 / 3000: loss 1.609913\n",
      "iteration 2900 / 3000: loss 1.719620\n",
      "That took 0.632709s\n"
     ]
    }
   ],
   "source": [
    "# Now implement SGD in LinearClassifier.train() function and run it with the code below\n",
    "import time\n",
    "\n",
    "tic = time.time()\n",
    "\n",
    "LC = LinearClassifier(input_size, output_size)\n",
    "\n",
    "stats = LC.train(X_train, y_train, X_val, y_val, learning_rate=0.001, reg=0.5,\n",
    "                      num_iters=3000, batch_size=64, loss='xentropy', verbose=True)\n",
    "toc = time.time()\n",
    "print 'That took %fs' % (toc - tic)\n"
   ]
  },
  {
   "cell_type": "code",
   "execution_count": 9,
   "metadata": {},
   "outputs": [
    {
     "data": {
      "text/plain": [
       "Text(0,0.5,'Loss value')"
      ]
     },
     "execution_count": 9,
     "metadata": {},
     "output_type": "execute_result"
    },
    {
     "data": {
      "image/png": "[encoded data removed]",
      "text/plain": [
       "<Figure size 432x288 with 1 Axes>"
      ]
     },
     "metadata": {
      "needs_background": "light"
     },
     "output_type": "display_data"
    }
   ],
   "source": [
    "# A useful debugging strategy is to plot the loss as a function of\n",
    "# iteration number:\n",
    "plt.plot(stats['loss_history'])\n",
    "plt.xlabel('Iteration number')\n",
    "plt.ylabel('Loss value')"
   ]
  },
  {
   "cell_type": "code",
   "execution_count": 15,
   "metadata": {},
   "outputs": [
    {
     "name": "stdout",
     "output_type": "stream",
     "text": [
      "training accuracy: 0.721472\n",
      "validation accuracy: 0.694695\n"
     ]
    }
   ],
   "source": [
    "# Write the LinearSVM.predict function and evaluate the performance on both the\n",
    "# training and validation set\n",
    "y_train_pred = LC.predict(X_train)\n",
    "print 'training accuracy: %f' % (np.mean(y_train == y_train_pred), )\n",
    "y_val_pred = LC.predict(X_val)\n",
    "print 'validation accuracy: %f' % (np.mean(y_val == y_val_pred), )"
   ]
  },
  {
   "cell_type": "code",
   "execution_count": 11,
   "metadata": {
    "scrolled": true
   },
   "outputs": [
    {
     "name": "stdout",
     "output_type": "stream",
     "text": [
      "lr 1.000000e-07 reg 1.000000e-05 train accuracy: 0.093750 val accuracy: 0.145145\n",
      "lr 1.000000e-07 reg 5.000000e-03 train accuracy: 0.125000 val accuracy: 0.126126\n",
      "lr 5.000000e-05 reg 1.000000e-05 train accuracy: 0.718750 val accuracy: 0.692693\n",
      "lr 5.000000e-05 reg 5.000000e-03 train accuracy: 0.718750 val accuracy: 0.691692\n",
      "lr 1.000000e-03 reg 1.000000e-05 train accuracy: 0.812500 val accuracy: 0.732733\n",
      "lr 1.000000e-03 reg 5.000000e-03 train accuracy: 0.812500 val accuracy: 0.733734\n",
      "best validation accuracy achieved during cross-validation: 0.733734\n"
     ]
    }
   ],
   "source": [
    "# Use the validation set to tune hyperparameters (delta, regularization strength and\n",
    "# learning rate). You should experiment with different ranges for the learning\n",
    "# rates and regularization strengths; if you are careful you should be able to\n",
    "# get a classification accuracy of about 0.4 on the validation set.\n",
    "learning_rates = [1e-3, 1e-7, 5e-5]\n",
    "regularization_strengths = [5e-3, 1e-5]\n",
    "\n",
    "# results is dictionary mapping tuples of the form\n",
    "# (delta, learning_rate, regularization_strength) to tuples of the form\n",
    "# (training_accuracy, validation_accuracy). The accuracy is simply the fraction\n",
    "# of data points that are correctly classified.\n",
    "results = {}\n",
    "best_val = -1   # The highest validation accuracy that we have seen so far.\n",
    "best_LC = None # The LinearClassifier object that achieved the highest validation rate.\n",
    "\n",
    "################################################################################\n",
    "# TODO:                                                                        #\n",
    "# Write code that chooses the best hyperparameters by tuning on the validation #\n",
    "# set. For each combination of hyperparameters, train a linear Classifier on   #\n",
    "# the training set, compute its accuracy on the training and validation sets,  #\n",
    "# and store these numbers in the results dictionary. In addition, store the    #\n",
    "# best validation accuracy in best_val and the LinearClassifier object that    #\n",
    "# achieves this accuracy in best_svm.                                          #\n",
    "#                                                                              #\n",
    "# Hint: You should use a small value for num_iters as you develop your         #\n",
    "# validation code so that the models don't take much time to train; once you   #\n",
    "# are confident that your validation code works, you should rerun the          #\n",
    "# validation  code with a larger value for num_iters.                          #\n",
    "################################################################################\n",
    "\n",
    "for lr in learning_rates:\n",
    "    for rs in regularization_strengths:\n",
    "        LC = LinearClassifier(input_size, output_size)\n",
    "        stats = LC.train(X_train, y_train, X_val, y_val, learning_rate=lr, reg=rs,\n",
    "                  num_iters=2000, batch_size=32, loss='xentropy', verbose=False)\n",
    "        if stats['val_acc_history'][-1] > best_val:\n",
    "            best_val = stats['val_acc_history'][-1]\n",
    "            best_LC = LC\n",
    "        results[(lr, rs)] = stats['train_acc_history'][-1], stats['val_acc_history'][-1]\n",
    "################################################################################\n",
    "################################################################################\n",
    "#                              END OF YOUR CODE                                #\n",
    "################################################################################\n",
    "    \n",
    "# Print out results.\n",
    "for lr, reg in sorted(results):\n",
    "    train_accuracy, val_accuracy = results[(lr, reg)]\n",
    "    print 'lr %e reg %e train accuracy: %f val accuracy: %f' % (\n",
    "                lr, reg, train_accuracy, val_accuracy)\n",
    "    \n",
    "print 'best validation accuracy achieved during cross-validation: %f' % best_val"
   ]
  },
  {
   "cell_type": "code",
   "execution_count": 12,
   "metadata": {},
   "outputs": [
    {
     "data": {
      "text/plain": [
       "Text(0.5,1,'MNIST validation accuracy')"
      ]
     },
     "execution_count": 12,
     "metadata": {},
     "output_type": "execute_result"
    },
    {
     "data": {
      "image/png": "[encoded data removed]",
      "text/plain": [
       "<Figure size 432x288 with 2 Axes>"
      ]
     },
     "metadata": {
      "needs_background": "light"
     },
     "output_type": "display_data"
    }
   ],
   "source": [
    "# Visualize the cross-validation results\n",
    "import math\n",
    "x_scatter = [math.log10(x[0]) for x in results]\n",
    "y_scatter = [math.log10(x[1]) for x in results]\n",
    "\n",
    "# plot training accuracy\n",
    "sz = [results[x][0]*1500 for x in results] # default size of markers is 20\n",
    "plt.subplot(1,2,1)\n",
    "plt.scatter(x_scatter, y_scatter, sz)\n",
    "plt.xlabel('log learning rate')\n",
    "plt.ylabel('log regularization strength')\n",
    "plt.title('MNIST training accuracy')\n",
    "\n",
    "# plot validation accuracy\n",
    "sz = [results[x][1]*1500 for x in results] # default size of markers is 20\n",
    "plt.subplot(1,2,2)\n",
    "plt.scatter(x_scatter, y_scatter, sz)\n",
    "plt.xlabel('log learning rate')\n",
    "plt.ylabel('log regularization strength')\n",
    "plt.title('MNIST validation accuracy')"
   ]
  },
  {
   "cell_type": "code",
   "execution_count": 13,
   "metadata": {},
   "outputs": [
    {
     "name": "stdout",
     "output_type": "stream",
     "text": [
      "linear classifier on raw pixels final test set accuracy: 0.736737\n"
     ]
    }
   ],
   "source": [
    "# Evaluate the best model on test set\n",
    "y_test_pred = best_LC.predict(X_test)\n",
    "test_accuracy = np.mean(y_test == y_test_pred)\n",
    "print 'linear classifier on raw pixels final test set accuracy: %f' % test_accuracy"
   ]
  },
  {
   "cell_type": "code",
   "execution_count": 14,
   "metadata": {},
   "outputs": [
    {
     "data": {
      "image/png": "[encoded data removed]",
      "text/plain": [
       "<Figure size 432x288 with 10 Axes>"
      ]
     },
     "metadata": {
      "needs_background": "light"
     },
     "output_type": "display_data"
    }
   ],
   "source": [
    "# Visualize the learned weights for each class.\n",
    "# Depending on your choice of learning rate and regularization strength, these may\n",
    "# or may not be nice to look at.\n",
    "w = best_LC.params['W'][:,:-1] # strip out the bias\n",
    "\n",
    "w = w.reshape(10, 28, 28)\n",
    "w_min, w_max = np.min(w), np.max(w)\n",
    "classes = ['0', '1', '2', '3', '4', '5', '6', '7', '8', '9']\n",
    "for i in xrange(10):\n",
    "  plt.subplot(2, 5, i + 1)\n",
    "    \n",
    "  # Rescale the weights to be between 0 and 255\n",
    "  wimg = 255.0 * (w[i].squeeze() - w_min) / (w_max - w_min)\n",
    "  plt.imshow(wimg.astype('uint8'))\n",
    "  plt.axis('off')\n",
    "  plt.title(classes[i])"
   ]
  },
  {
   "cell_type": "code",
   "execution_count": null,
   "metadata": {},
   "outputs": [],
   "source": []
  }
 ],
 "metadata": {
  "kernelspec": {
   "display_name": "Python 2",
   "language": "python",
   "name": "python2"
  },
  "language_info": {
   "codemirror_mode": {
    "name": "ipython",
    "version": 2
   },
   "file_extension": ".py",
   "mimetype": "text/x-python",
   "name": "python",
   "nbconvert_exporter": "python",
   "pygments_lexer": "ipython2",
   "version": "2.7.15"
  }
 },
 "nbformat": 4,
 "nbformat_minor": 1
}
